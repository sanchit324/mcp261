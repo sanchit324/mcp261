{
 "cells": [
  {
   "cell_type": "code",
   "execution_count": 50,
   "metadata": {},
   "outputs": [],
   "source": [
    "import pandas as pd\n",
    "import numpy as np\n",
    "import scipy \n",
    "import matplotlib.pyplot as plt"
   ]
  },
  {
   "cell_type": "code",
   "execution_count": 51,
   "metadata": {},
   "outputs": [
    {
     "data": {
      "text/html": [
       "<div>\n",
       "<style scoped>\n",
       "    .dataframe tbody tr th:only-of-type {\n",
       "        vertical-align: middle;\n",
       "    }\n",
       "\n",
       "    .dataframe tbody tr th {\n",
       "        vertical-align: top;\n",
       "    }\n",
       "\n",
       "    .dataframe thead th {\n",
       "        text-align: right;\n",
       "    }\n",
       "</style>\n",
       "<table border=\"1\" class=\"dataframe\">\n",
       "  <thead>\n",
       "    <tr style=\"text-align: right;\">\n",
       "      <th></th>\n",
       "      <th>0</th>\n",
       "      <th>1</th>\n",
       "      <th>2</th>\n",
       "      <th>3</th>\n",
       "      <th>4</th>\n",
       "      <th>5</th>\n",
       "      <th>6</th>\n",
       "      <th>7</th>\n",
       "      <th>8</th>\n",
       "      <th>9</th>\n",
       "      <th>10</th>\n",
       "      <th>11</th>\n",
       "      <th>12</th>\n",
       "      <th>13</th>\n",
       "      <th>14</th>\n",
       "      <th>15</th>\n",
       "      <th>16</th>\n",
       "      <th>17</th>\n",
       "    </tr>\n",
       "  </thead>\n",
       "  <tbody>\n",
       "    <tr>\n",
       "      <th>0</th>\n",
       "      <td>0</td>\n",
       "      <td>0.946581</td>\n",
       "      <td>0.041599</td>\n",
       "      <td>0.000000</td>\n",
       "      <td>0.011587</td>\n",
       "      <td>0.000000</td>\n",
       "      <td>0.0</td>\n",
       "      <td>0.0</td>\n",
       "      <td>0.0</td>\n",
       "      <td>0.0</td>\n",
       "      <td>0.0</td>\n",
       "      <td>0.0</td>\n",
       "      <td>0.0</td>\n",
       "      <td>0.0</td>\n",
       "      <td>0.000000</td>\n",
       "      <td>0.0</td>\n",
       "      <td>0.0</td>\n",
       "      <td>0.000232</td>\n",
       "    </tr>\n",
       "    <tr>\n",
       "      <th>1</th>\n",
       "      <td>0</td>\n",
       "      <td>0.958544</td>\n",
       "      <td>0.000000</td>\n",
       "      <td>0.029636</td>\n",
       "      <td>0.011587</td>\n",
       "      <td>0.000000</td>\n",
       "      <td>0.0</td>\n",
       "      <td>0.0</td>\n",
       "      <td>0.0</td>\n",
       "      <td>0.0</td>\n",
       "      <td>0.0</td>\n",
       "      <td>0.0</td>\n",
       "      <td>0.0</td>\n",
       "      <td>0.0</td>\n",
       "      <td>0.000000</td>\n",
       "      <td>0.0</td>\n",
       "      <td>0.0</td>\n",
       "      <td>0.000232</td>\n",
       "    </tr>\n",
       "    <tr>\n",
       "      <th>2</th>\n",
       "      <td>0</td>\n",
       "      <td>0.000000</td>\n",
       "      <td>0.000000</td>\n",
       "      <td>0.000000</td>\n",
       "      <td>0.794711</td>\n",
       "      <td>0.197922</td>\n",
       "      <td>0.0</td>\n",
       "      <td>0.0</td>\n",
       "      <td>0.0</td>\n",
       "      <td>0.0</td>\n",
       "      <td>0.0</td>\n",
       "      <td>0.0</td>\n",
       "      <td>0.0</td>\n",
       "      <td>0.0</td>\n",
       "      <td>0.007077</td>\n",
       "      <td>0.0</td>\n",
       "      <td>0.0</td>\n",
       "      <td>0.000290</td>\n",
       "    </tr>\n",
       "    <tr>\n",
       "      <th>3</th>\n",
       "      <td>0</td>\n",
       "      <td>0.000000</td>\n",
       "      <td>0.000000</td>\n",
       "      <td>0.000000</td>\n",
       "      <td>0.794711</td>\n",
       "      <td>0.197922</td>\n",
       "      <td>0.0</td>\n",
       "      <td>0.0</td>\n",
       "      <td>0.0</td>\n",
       "      <td>0.0</td>\n",
       "      <td>0.0</td>\n",
       "      <td>0.0</td>\n",
       "      <td>0.0</td>\n",
       "      <td>0.0</td>\n",
       "      <td>0.007077</td>\n",
       "      <td>0.0</td>\n",
       "      <td>0.0</td>\n",
       "      <td>0.000290</td>\n",
       "    </tr>\n",
       "    <tr>\n",
       "      <th>4</th>\n",
       "      <td>0</td>\n",
       "      <td>0.000000</td>\n",
       "      <td>0.000000</td>\n",
       "      <td>0.000000</td>\n",
       "      <td>0.794769</td>\n",
       "      <td>0.197922</td>\n",
       "      <td>0.0</td>\n",
       "      <td>0.0</td>\n",
       "      <td>0.0</td>\n",
       "      <td>0.0</td>\n",
       "      <td>0.0</td>\n",
       "      <td>0.0</td>\n",
       "      <td>0.0</td>\n",
       "      <td>0.0</td>\n",
       "      <td>0.007077</td>\n",
       "      <td>0.0</td>\n",
       "      <td>0.0</td>\n",
       "      <td>0.000232</td>\n",
       "    </tr>\n",
       "  </tbody>\n",
       "</table>\n",
       "</div>"
      ],
      "text/plain": [
       "   0         1         2         3         4         5    6    7    8    9   \\\n",
       "0   0  0.946581  0.041599  0.000000  0.011587  0.000000  0.0  0.0  0.0  0.0   \n",
       "1   0  0.958544  0.000000  0.029636  0.011587  0.000000  0.0  0.0  0.0  0.0   \n",
       "2   0  0.000000  0.000000  0.000000  0.794711  0.197922  0.0  0.0  0.0  0.0   \n",
       "3   0  0.000000  0.000000  0.000000  0.794711  0.197922  0.0  0.0  0.0  0.0   \n",
       "4   0  0.000000  0.000000  0.000000  0.794769  0.197922  0.0  0.0  0.0  0.0   \n",
       "\n",
       "    10   11   12   13        14   15   16        17  \n",
       "0  0.0  0.0  0.0  0.0  0.000000  0.0  0.0  0.000232  \n",
       "1  0.0  0.0  0.0  0.0  0.000000  0.0  0.0  0.000232  \n",
       "2  0.0  0.0  0.0  0.0  0.007077  0.0  0.0  0.000290  \n",
       "3  0.0  0.0  0.0  0.0  0.007077  0.0  0.0  0.000290  \n",
       "4  0.0  0.0  0.0  0.0  0.007077  0.0  0.0  0.000232  "
      ]
     },
     "execution_count": 51,
     "metadata": {},
     "output_type": "execute_result"
    }
   ],
   "source": [
    "tpm = pd.read_excel(\"tpm.xlsx\", header=None, sheet_name=\"TPM\")\n",
    "tpm.head()"
   ]
  },
  {
   "cell_type": "code",
   "execution_count": 52,
   "metadata": {},
   "outputs": [
    {
     "data": {
      "text/plain": [
       "(18, 18)"
      ]
     },
     "execution_count": 52,
     "metadata": {},
     "output_type": "execute_result"
    }
   ],
   "source": [
    "tpm.shape"
   ]
  },
  {
   "cell_type": "code",
   "execution_count": 53,
   "metadata": {},
   "outputs": [],
   "source": [
    "tpm = tpm.to_numpy()"
   ]
  },
  {
   "cell_type": "code",
   "execution_count": 54,
   "metadata": {},
   "outputs": [
    {
     "data": {
      "text/plain": [
       "0      1142.374401\n",
       "1      1119.328497\n",
       "2     16678.592492\n",
       "3     16678.592492\n",
       "4       297.465665\n",
       "5      2516.404908\n",
       "6      1765.269628\n",
       "7     16677.003062\n",
       "8     16677.003062\n",
       "9       297.465665\n",
       "10      773.103739\n",
       "11      827.170607\n",
       "12    16870.198719\n",
       "13      297.465665\n",
       "14    17775.500000\n",
       "15    17775.500000\n",
       "16    17775.500000\n",
       "17        0.000000\n",
       "Name: 7, dtype: float64"
      ]
     },
     "execution_count": 54,
     "metadata": {},
     "output_type": "execute_result"
    }
   ],
   "source": [
    "cost = pd.read_excel(\"tpm.xlsx\", header=None, sheet_name=\"Cost Matrix\")\n",
    "c = cost.iloc[7]\n",
    "c"
   ]
  },
  {
   "cell_type": "code",
   "execution_count": 55,
   "metadata": {},
   "outputs": [
    {
     "data": {
      "text/plain": [
       "array([ 1142.37440092,  1119.32849653, 16678.5924922 , 16678.5924922 ,\n",
       "         297.46566546,  2516.40490786,  1765.26962798, 16677.00306153,\n",
       "       16677.00306153,   297.46566546,   773.10373933,   827.17060732,\n",
       "       16870.19871911,   297.46566546, 17775.5       , 17775.5       ,\n",
       "       17775.5       ,     0.        ])"
      ]
     },
     "execution_count": 55,
     "metadata": {},
     "output_type": "execute_result"
    }
   ],
   "source": [
    "c = c.to_numpy()\n",
    "c"
   ]
  },
  {
   "cell_type": "code",
   "execution_count": 56,
   "metadata": {},
   "outputs": [],
   "source": [
    "ac = np.eye(18)\n",
    "mult = tpm.copy()\n",
    "\n",
    "for _ in range(59):\n",
    "    ac += mult\n",
    "    mult = mult.dot(tpm)\n"
   ]
  },
  {
   "cell_type": "code",
   "execution_count": 57,
   "metadata": {},
   "outputs": [
    {
     "data": {
      "text/plain": [
       "20.955564429526483"
      ]
     },
     "execution_count": 57,
     "metadata": {},
     "output_type": "execute_result"
    }
   ],
   "source": [
    "ac[0][1]"
   ]
  },
  {
   "cell_type": "code",
   "execution_count": 58,
   "metadata": {},
   "outputs": [
    {
     "data": {
      "text/plain": [
       "array([1.14237440e+03, 4.88110255e+04, 1.67261144e+04, 1.81196981e+04,\n",
       "       1.39011859e+05, 5.58930004e+04, 1.10880149e+06, 1.99725969e+04,\n",
       "       5.37791661e+04, 3.38374404e+05, 3.04823135e+05, 5.34886473e+06,\n",
       "       1.21401300e+05, 8.00636598e+05, 9.58759769e+04, 1.04080584e+05,\n",
       "       1.19205372e+05, 6.11168916e+04])"
      ]
     },
     "execution_count": 58,
     "metadata": {},
     "output_type": "execute_result"
    }
   ],
   "source": [
    "average_cost = np.dot(c.T, ac)\n",
    "average_cost"
   ]
  },
  {
   "cell_type": "code",
   "execution_count": 59,
   "metadata": {},
   "outputs": [
    {
     "data": {
      "text/plain": [
       "8756636.316172997"
      ]
     },
     "execution_count": 59,
     "metadata": {},
     "output_type": "execute_result"
    }
   ],
   "source": [
    "total_cost = average_cost.sum()\n",
    "total_cost"
   ]
  },
  {
   "cell_type": "code",
   "execution_count": 60,
   "metadata": {},
   "outputs": [],
   "source": [
    "np.random.seed(1234)"
   ]
  },
  {
   "cell_type": "code",
   "execution_count": 61,
   "metadata": {},
   "outputs": [
    {
     "data": {
      "text/plain": [
       "array([ 9169454.94371909,  7713742.2141784 , 10011205.7031884 ,\n",
       "        8482858.42140929,  8125642.96901208,  9533492.63831915,\n",
       "        9509346.62822494,  8199255.83268513,  8770381.05838193,\n",
       "        6792798.66461753,  9763680.77537079,  9625247.37246592,\n",
       "        9591427.58430432,  6986696.9798971 ,  8464096.91678834,\n",
       "        8758491.29108483,  9111677.12300017,  9009783.61508287])"
      ]
     },
     "execution_count": 61,
     "metadata": {},
     "output_type": "execute_result"
    }
   ],
   "source": [
    "vector = np.random.normal(loc=total_cost, scale=0.1*total_cost, size=18)\n",
    "vector"
   ]
  },
  {
   "cell_type": "code",
   "execution_count": 62,
   "metadata": {},
   "outputs": [
    {
     "data": {
      "image/png": "[encoded data removed]",
      "text/plain": [
       "<Figure size 640x480 with 1 Axes>"
      ]
     },
     "metadata": {},
     "output_type": "display_data"
    },
    {
     "data": {
      "text/plain": [
       "(157827215.966321, 3719904.626473573)"
      ]
     },
     "execution_count": 62,
     "metadata": {},
     "output_type": "execute_result"
    }
   ],
   "source": [
    "import numpy as np\n",
    "import matplotlib.pyplot as plt\n",
    "\n",
    "np.random.seed(1234)\n",
    "\n",
    "# Define parameters\n",
    "iterations = 1000\n",
    "mean = total_cost\n",
    "std_dev = 0.1 * total_cost\n",
    "\n",
    "# Perform Monte Carlo simulation\n",
    "simulation_results = []\n",
    "for _ in range(iterations):\n",
    "    costs = np.random.normal(loc=mean, scale=std_dev, size=18)\n",
    "    total_costs = np.sum(costs)\n",
    "    simulation_results.append(total_costs)\n",
    "\n",
    "# Calculate mean and standard deviation\n",
    "mean_total_costs = np.mean(simulation_results)\n",
    "std_dev_total_costs = np.std(simulation_results)\n",
    "\n",
    "# Plot histogram\n",
    "plt.hist(simulation_results, bins=30)\n",
    "plt.xlabel('Total Costs')\n",
    "plt.ylabel('Frequency')\n",
    "plt.title('Histogram of Total Costs')\n",
    "plt.show()\n",
    "\n",
    "mean_total_costs, std_dev_total_costs\n"
   ]
  }
 ],
 "metadata": {
  "kernelspec": {
   "display_name": "Python 3",
   "language": "python",
   "name": "python3"
  },
  "language_info": {
   "codemirror_mode": {
    "name": "ipython",
    "version": 3
   },
   "file_extension": ".py",
   "mimetype": "text/x-python",
   "name": "python",
   "nbconvert_exporter": "python",
   "pygments_lexer": "ipython3",
   "version": "3.12.1"
  }
 },
 "nbformat": 4,
 "nbformat_minor": 2
}
